{
 "cells": [
  {
   "cell_type": "markdown",
   "metadata": {},
   "source": [
    "# Data Cleaning Notebook Number 1\n",
    "@QYGoh\n",
    "\n",
    "###Purpose: To wrangle the data extracted from the first scraper titled 'sg_shopee.csv'"
   ]
  },
  {
   "cell_type": "code",
   "execution_count": 1,
   "metadata": {},
   "outputs": [],
   "source": [
    "import pandas as pd"
   ]
  },
  {
   "cell_type": "code",
   "execution_count": 2,
   "metadata": {},
   "outputs": [
    {
     "data": {
      "text/html": [
       "<div>\n",
       "<style scoped>\n",
       "    .dataframe tbody tr th:only-of-type {\n",
       "        vertical-align: middle;\n",
       "    }\n",
       "\n",
       "    .dataframe tbody tr th {\n",
       "        vertical-align: top;\n",
       "    }\n",
       "\n",
       "    .dataframe thead th {\n",
       "        text-align: right;\n",
       "    }\n",
       "</style>\n",
       "<table border=\"1\" class=\"dataframe\">\n",
       "  <thead>\n",
       "    <tr style=\"text-align: right;\">\n",
       "      <th></th>\n",
       "      <th>Unnamed: 0</th>\n",
       "      <th>Unnamed: 0.1</th>\n",
       "      <th>Name</th>\n",
       "      <th>Original_price</th>\n",
       "      <th>Sale_price</th>\n",
       "      <th>Sold_quantity</th>\n",
       "      <th>URL</th>\n",
       "      <th>start</th>\n",
       "      <th>end</th>\n",
       "    </tr>\n",
       "  </thead>\n",
       "  <tbody>\n",
       "    <tr>\n",
       "      <td>0</td>\n",
       "      <td>0</td>\n",
       "      <td>0</td>\n",
       "      <td>Automatic flower watering device Watering flow...</td>\n",
       "      <td>$ 14.00</td>\n",
       "      <td>$ 0.10</td>\n",
       "      <td>200 sold in 30 minutes</td>\n",
       "      <td>https://shopee.sg/Automatic-flower-watering-de...</td>\n",
       "      <td>20210908</td>\n",
       "      <td>941</td>\n",
       "    </tr>\n",
       "    <tr>\n",
       "      <td>1</td>\n",
       "      <td>1</td>\n",
       "      <td>1</td>\n",
       "      <td>Classic Luminous Ear Picks, Ear Picks with Saf...</td>\n",
       "      <td>$ 1.99</td>\n",
       "      <td>$ 0.10</td>\n",
       "      <td>100 sold in 30 minutes</td>\n",
       "      <td>https://shopee.sg/Classic-Luminous-Ear-Picks-E...</td>\n",
       "      <td>20210908</td>\n",
       "      <td>941</td>\n",
       "    </tr>\n",
       "    <tr>\n",
       "      <td>2</td>\n",
       "      <td>2</td>\n",
       "      <td>2</td>\n",
       "      <td>Unisex Sports Hair Band Yoga Sweat Band Runnin...</td>\n",
       "      <td>$ 4.30</td>\n",
       "      <td>$ 0.10</td>\n",
       "      <td>200 sold in 31 minutes</td>\n",
       "      <td>https://shopee.sg/Unisex-Sports-Hair-Band-Yoga...</td>\n",
       "      <td>20210908</td>\n",
       "      <td>941</td>\n",
       "    </tr>\n",
       "    <tr>\n",
       "      <td>3</td>\n",
       "      <td>3</td>\n",
       "      <td>3</td>\n",
       "      <td>National24Hourly Delivery Internet Celebrity S...</td>\n",
       "      <td>$ 2.01</td>\n",
       "      <td>$ 0.10</td>\n",
       "      <td>200 sold in 32 minutes</td>\n",
       "      <td>https://shopee.sg/National24Hourly-Delivery-In...</td>\n",
       "      <td>20210908</td>\n",
       "      <td>941</td>\n",
       "    </tr>\n",
       "    <tr>\n",
       "      <td>4</td>\n",
       "      <td>4</td>\n",
       "      <td>4</td>\n",
       "      <td>SGD 140 voucher for HUAWEI MateView GT/HUAWEI ...</td>\n",
       "      <td>$ 99.00</td>\n",
       "      <td>$ 1.00</td>\n",
       "      <td>50 sold in 39 minutes</td>\n",
       "      <td>https://shopee.sg/SGD-140-voucher-for-HUAWEI-M...</td>\n",
       "      <td>20210908</td>\n",
       "      <td>941</td>\n",
       "    </tr>\n",
       "  </tbody>\n",
       "</table>\n",
       "</div>"
      ],
      "text/plain": [
       "   Unnamed: 0  Unnamed: 0.1  \\\n",
       "0           0             0   \n",
       "1           1             1   \n",
       "2           2             2   \n",
       "3           3             3   \n",
       "4           4             4   \n",
       "\n",
       "                                                Name Original_price  \\\n",
       "0  Automatic flower watering device Watering flow...        $ 14.00   \n",
       "1  Classic Luminous Ear Picks, Ear Picks with Saf...         $ 1.99   \n",
       "2  Unisex Sports Hair Band Yoga Sweat Band Runnin...         $ 4.30   \n",
       "3  National24Hourly Delivery Internet Celebrity S...         $ 2.01   \n",
       "4  SGD 140 voucher for HUAWEI MateView GT/HUAWEI ...        $ 99.00   \n",
       "\n",
       "  Sale_price           Sold_quantity  \\\n",
       "0     $ 0.10  200 sold in 30 minutes   \n",
       "1     $ 0.10  100 sold in 30 minutes   \n",
       "2     $ 0.10  200 sold in 31 minutes   \n",
       "3     $ 0.10  200 sold in 32 minutes   \n",
       "4     $ 1.00   50 sold in 39 minutes   \n",
       "\n",
       "                                                 URL     start  end  \n",
       "0  https://shopee.sg/Automatic-flower-watering-de...  20210908  941  \n",
       "1  https://shopee.sg/Classic-Luminous-Ear-Picks-E...  20210908  941  \n",
       "2  https://shopee.sg/Unisex-Sports-Hair-Band-Yoga...  20210908  941  \n",
       "3  https://shopee.sg/National24Hourly-Delivery-In...  20210908  941  \n",
       "4  https://shopee.sg/SGD-140-voucher-for-HUAWEI-M...  20210908  941  "
      ]
     },
     "execution_count": 2,
     "metadata": {},
     "output_type": "execute_result"
    }
   ],
   "source": [
    "df_raw = pd.read_csv('sg_shoppee.csv')\n",
    "df_raw.head()"
   ]
  },
  {
   "cell_type": "code",
   "execution_count": 3,
   "metadata": {},
   "outputs": [],
   "source": [
    "df_raw.reset_index(inplace=True)\n",
    "df_raw['Sold_info']= df_raw['Sold_quantity']"
   ]
  },
  {
   "cell_type": "code",
   "execution_count": 4,
   "metadata": {},
   "outputs": [],
   "source": [
    "df = df_raw[['index','Name', 'Original_price','Sale_price', 'Sold_info', 'URL', 'start', 'end']]"
   ]
  },
  {
   "cell_type": "code",
   "execution_count": 5,
   "metadata": {},
   "outputs": [
    {
     "name": "stderr",
     "output_type": "stream",
     "text": [
      "C:\\Users\\user\\Anaconda3\\lib\\site-packages\\ipykernel_launcher.py:1: SettingWithCopyWarning: \n",
      "A value is trying to be set on a copy of a slice from a DataFrame.\n",
      "Try using .loc[row_indexer,col_indexer] = value instead\n",
      "\n",
      "See the caveats in the documentation: http://pandas.pydata.org/pandas-docs/stable/user_guide/indexing.html#returning-a-view-versus-a-copy\n",
      "  \"\"\"Entry point for launching an IPython kernel.\n",
      "C:\\Users\\user\\Anaconda3\\lib\\site-packages\\ipykernel_launcher.py:2: SettingWithCopyWarning: \n",
      "A value is trying to be set on a copy of a slice from a DataFrame.\n",
      "Try using .loc[row_indexer,col_indexer] = value instead\n",
      "\n",
      "See the caveats in the documentation: http://pandas.pydata.org/pandas-docs/stable/user_guide/indexing.html#returning-a-view-versus-a-copy\n",
      "  \n"
     ]
    }
   ],
   "source": [
    "# creating new empty columns\n",
    "df['Sold_quantity'] = ''\n",
    "df['Sold_Out'] = ''\n",
    "df['Sold_out_time'] = ''"
   ]
  },
  {
   "cell_type": "code",
   "execution_count": 6,
   "metadata": {},
   "outputs": [
    {
     "name": "stderr",
     "output_type": "stream",
     "text": [
      "C:\\Users\\user\\Anaconda3\\lib\\site-packages\\ipykernel_launcher.py:2: SettingWithCopyWarning: \n",
      "A value is trying to be set on a copy of a slice from a DataFrame\n",
      "\n",
      "See the caveats in the documentation: http://pandas.pydata.org/pandas-docs/stable/user_guide/indexing.html#returning-a-view-versus-a-copy\n",
      "  \n",
      "C:\\Users\\user\\Anaconda3\\lib\\site-packages\\ipykernel_launcher.py:4: SettingWithCopyWarning: \n",
      "A value is trying to be set on a copy of a slice from a DataFrame\n",
      "\n",
      "See the caveats in the documentation: http://pandas.pydata.org/pandas-docs/stable/user_guide/indexing.html#returning-a-view-versus-a-copy\n",
      "  after removing the cwd from sys.path.\n",
      "C:\\Users\\user\\Anaconda3\\lib\\site-packages\\ipykernel_launcher.py:6: SettingWithCopyWarning: \n",
      "A value is trying to be set on a copy of a slice from a DataFrame\n",
      "\n",
      "See the caveats in the documentation: http://pandas.pydata.org/pandas-docs/stable/user_guide/indexing.html#returning-a-view-versus-a-copy\n",
      "  \n"
     ]
    }
   ],
   "source": [
    "# identifing which rows are sold out and which ones are not\n",
    "for i in df.index:\n",
    "    df['Sold_quantity'][i] = df['Sold_info'][i].split(' sold')[0]\n",
    "    if 'in' in df['Sold_info'][i]:\n",
    "        df['Sold_Out'][i] = 'Yes'\n",
    "    else:\n",
    "        df['Sold_Out'][i] = 'No'"
   ]
  },
  {
   "cell_type": "code",
   "execution_count": 7,
   "metadata": {},
   "outputs": [
    {
     "name": "stderr",
     "output_type": "stream",
     "text": [
      "C:\\Users\\user\\Anaconda3\\lib\\site-packages\\ipykernel_launcher.py:3: SettingWithCopyWarning: \n",
      "A value is trying to be set on a copy of a slice from a DataFrame\n",
      "\n",
      "See the caveats in the documentation: http://pandas.pydata.org/pandas-docs/stable/user_guide/indexing.html#returning-a-view-versus-a-copy\n",
      "  This is separate from the ipykernel package so we can avoid doing imports until\n"
     ]
    }
   ],
   "source": [
    "# cleaning the data such that it reflects sold out time as a numeric without the string data\n",
    "for i in df.index:\n",
    "    try:\n",
    "        df['Sold_out_time'][i] = df['Sold_info'][i].split(' ')[3] +' '+ df['Sold_info'][i].split(' ')[4]\n",
    "    except:\n",
    "        pass"
   ]
  },
  {
   "cell_type": "code",
   "execution_count": 8,
   "metadata": {},
   "outputs": [],
   "source": [
    "df.to_csv('cleaned.csv')"
   ]
  },
  {
   "cell_type": "code",
   "execution_count": null,
   "metadata": {},
   "outputs": [],
   "source": []
  }
 ],
 "metadata": {
  "kernelspec": {
   "display_name": "Python 3",
   "language": "python",
   "name": "python3"
  },
  "language_info": {
   "codemirror_mode": {
    "name": "ipython",
    "version": 3
   },
   "file_extension": ".py",
   "mimetype": "text/x-python",
   "name": "python",
   "nbconvert_exporter": "python",
   "pygments_lexer": "ipython3",
   "version": "3.7.4"
  }
 },
 "nbformat": 4,
 "nbformat_minor": 4
}
