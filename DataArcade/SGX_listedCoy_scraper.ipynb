{
 "cells": [
  {
   "cell_type": "markdown",
   "metadata": {},
   "source": [
    "## Purpose of this notebook \n",
    "\n",
    "To scrape SGX webpage for all listed companies' information. This is the raw notebook, i.e contains all the trial and errors that resulted in the final scraper"
   ]
  },
  {
   "cell_type": "code",
   "execution_count": 23,
   "metadata": {},
   "outputs": [],
   "source": [
    "#importing the required libraries\n",
    "from urllib.request import urlopen\n",
    "from bs4 import BeautifulSoup\n",
    "import requests \n",
    "import pandas as pd"
   ]
  },
  {
   "cell_type": "raw",
   "metadata": {},
   "source": [
    "Related url: https://www.sgx.com/securities/annual-reports-related-documents"
   ]
  },
  {
   "cell_type": "markdown",
   "metadata": {},
   "source": [
    "### Trial Test with one URL"
   ]
  },
  {
   "cell_type": "code",
   "execution_count": 2,
   "metadata": {},
   "outputs": [
    {
     "data": {
      "text/plain": [
       "['\\n',\n",
       " 'html PUBLIC \"-//W3C//DTD XHTML 1.0 Transitional//EN\"',\n",
       " '\\n',\n",
       " <html xmlns=\"http://www.w3.org/1999/xhtml\">\n",
       " <head id=\"Head1\"><meta content=\"IE=edge\" http-equiv=\"X-UA-Compatible\"/><link href=\"/image/favicon.ico\" rel=\"shortcut icon\" type=\"image/x-icon\"/><link href=\"../../_layouts/1033/styles/SGX.COW.MasterPage/SGX_COW_MasterPage/SGX_Stocks.css\" rel=\"stylesheet\" type=\"text/css\"/>\n",
       " <!-- Custom Corporate announcement -->\n",
       " <link href=\"../../_layouts/1033/styles/SGX.COW.MasterPage/SGX_COW_MasterPage/SGX_Master.css\" rel=\"stylesheet\" type=\"text/css\"/>\n",
       " <!--Warrants-->\n",
       " <link href=\"../../_layouts/1033/styles/SGX.COW.MasterPage/SGX_COW_MasterPage/SGX_Warrants.css\" rel=\"stylesheet\" type=\"text/css\"/>\n",
       " <!--CorpInfo-->\n",
       " <link href=\"../../_layouts/1033/styles/SGX.COW.MasterPage/SGX_COW_MasterPage/SGX_CorpInfo.css\" rel=\"stylesheet\" type=\"text/css\"/>\n",
       " <!--IPOAllinOne-->\n",
       " <link href=\"../../_layouts/1033/styles/SGX.COW.MasterPage/SGX_COW_MasterPage/SGX_IPO_Page.css\" rel=\"stylesheet\" type=\"text/css\"/><meta content=\"SAMKO TIMBER LIMITED\" name=\"title\"/><meta content=\"SAMKO TIMBER LIMITED listed on - SG1W64939547 - 25 February 2008 on SGX Mainboard\" name=\"description\"/><meta content=\"20080225T00:00:00Z\" name=\"date\"/><title>\n",
       " </title></head>\n",
       " <body>\n",
       " <form action=\"./2178\" id=\"form1\" method=\"post\" name=\"form1\">\n",
       " <input id=\"__VIEWSTATE\" name=\"__VIEWSTATE\" type=\"hidden\" value=\"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\"/>\n",
       " <input id=\"__VIEWSTATEGENERATOR\" name=\"__VIEWSTATEGENERATOR\" type=\"hidden\" value=\"CA0B0334\"/>\n",
       " <div class=\"announcement\" id=\"divControls\">\n",
       " <link href=\"../../../_layouts/1033/styles/infoviewstyle.css\" rel=\"Stylesheet\"/>\n",
       " <div class=\"announcement-group\">\n",
       " <h2 class=\"announcement-group-header\">Basic Info</h2>\n",
       " <div id=\"ctl07_lblIPOCompanyImage\">\n",
       " <div id=\"ctl07_lblIPOCompanyName\">\n",
       " <img border=\"0\" class=\"announcement-company-logo\" id=\"ctl07_logoImage\" src=\"data:image/png;base64,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\"/>\n",
       " </div>\n",
       " </div>\n",
       " <h2 class=\"announcement-group-header\"><span id=\"ctl07_lblCompName\">SAMKO TIMBER LIMITED</span></h2>\n",
       " <dl>\n",
       " <dt>Full Company Name :</dt>\n",
       " <dd><span id=\"ctl07_compFullNameLabel\">SAMKO TIMBER LIMITED</span></dd>\n",
       " <dt>Incorporated in :</dt>\n",
       " <dd><span id=\"ctl07_incorporatedLabel\">SINGAPORE</span></dd>\n",
       " <dt>Incorporated on :</dt>\n",
       " <dd><span id=\"ctl07_incorpOnLabel\">26 Dec 2005</span></dd>\n",
       " <dt>ISIN Code :</dt>\n",
       " <dd><span id=\"ctl07_isinCodeLabel\">SG1W64939547</span></dd>\n",
       " <dt>Registered Office :</dt>\n",
       " <dd>\n",
       " <span id=\"ctl07_regOffc1Label\">7500A Beach Road</span><br/>\n",
       " <span id=\"ctl07_regOffc2Label\">#08-305/307 The Plaza</span><br/>\n",
       " <span id=\"ctl07_regOffc3Label\">Singapore 199591</span><br/>\n",
       " <span id=\"ctl07_regOffc4Label\"> </span>\n",
       " </dd>\n",
       " <dt>Telephone :</dt>\n",
       " <dd><span id=\"ctl07_teleLabel\">65 62982189 </span></dd>\n",
       " <dt>Fax :</dt>\n",
       " <dd><span id=\"ctl07_faxLabel\">60 62982187</span></dd>\n",
       " <dt>Secretary :</dt>\n",
       " <dd>\n",
       " <span id=\"ctl07_secretary1Label\">Kiar Lee Noi</span><br/>\n",
       " <span id=\"ctl07_secretary2Label\"></span>\n",
       " </dd>\n",
       " <dt>Link to Internet Website :</dt>\n",
       " <dd>\n",
       " <a href=\"http://www.sampoernakayoe.co.id\" id=\"ctl07_compWebHypLink\" target=\"_blank\">http://www.sampoernakayoe.co.id</a>\n",
       " </dd>\n",
       " </dl>\n",
       " <div class=\"announcement-group\">\n",
       " </div>\n",
       " <dl>\n",
       " <dt>\n",
       " <b>LISTING</b>\n",
       " </dt>\n",
       " <dd><span id=\"ctl07_listingDateLabel\">Listed on 25 February 2008 on SGX Mainboard</span></dd>\n",
       " </dl>\n",
       " <dl id=\"ctl07_tblOtherStockExchange\">\n",
       " <dt>\n",
       " <b>OTHER STOCK EXCHANGE LISTINGS</b>\n",
       " </dt>\n",
       " <dd>\n",
       " <span id=\"ctl07_OtherStockExchangeLabel\">*SINGAPORE EXCHANGE LTD.</span>\n",
       " </dd>\n",
       " </dl>\n",
       " <dl>\n",
       " <dt>\n",
       " <b>REGISTRARS / TRANSFER AGENTS &amp; ADDRESS</b>\n",
       " </dt>\n",
       " <dd>\n",
       "             BOARDROOM CORPORATE &amp; ADVISORY SERVICES PTE. LTD.\n",
       "         </dd>\n",
       " <dd>\n",
       "             50 Raffles Place #32-01 Singapore Land Tower Singapore 048623\n",
       "         </dd>\n",
       " <dt>\n",
       " <b>AUDITORS</b>\n",
       " </dt>\n",
       " <dd>\n",
       " <span id=\"ctl07_auditor1Label\">MOORE STEPHENS LLP</span><br/>\n",
       " <span id=\"ctl07_Auditor2Label\"></span>\n",
       " </dd>\n",
       " </dl>\n",
       " </div>\n",
       " <div class=\"announcement-footer announcement-info\">\n",
       "     Information last updated on\n",
       "         <span class=\"displayLabel\" id=\"ctl07_lblModifyOn\"><span id=\"ctl07_lblLastUpdatedOn\">08/05/2020 08:45:22 AM</span></span>\n",
       " </div>\n",
       " <div class=\"announcement-group\">\n",
       " <div class=\"announcement-group-header\">Background</div>\n",
       " <dd class=\"announcement-richtext\" id=\"litIPOCompany\">\n",
       "         Commencing its operations in 1978, Samko Timber Limited and its subsidiaries (\"Samko\") is today a leading timber processing group of companies in Indonesia. Over the past 40 years, Samko has focused extensively on developing our research and development, management, processing, logistics, and distribution capabilities so as to achieved a competitive edge over other competitors. Samko has developed a strong business and operating model, enabling Samko to continuously expand the group processing capacity and maintain sustainability in production. Samko's strong experience has helped the group gain success and grow steadily amid the changing business environment. The organic expansion in the group contributed a total production capacity of more than 850,000 cubic metre annually, allowing Samko to be a major engineered wood manufacturer in Indonesia and one of the largest globally.  Samko produces various sizes and grades of processed timber products, which comprise principally of primary processed timber products such as primary plywood, laminated veneer lumber, medium density fiberboard and piano parts. It also produces a wide range of secondary processed timber products such as processed plywood, truck body components and solid wood moldings. Its products also include Forest Stewardship Council certified logs. In addition, Samko manufactures several types and grades of chemical glues primarily used in the manufacture of its processed timber products. Apart from its domestic market Indonesia, Samko's products are sold to customers in various countries and territories, including Japan, the Middle East, South Korea, South East Asia, Europe, the U.S. and Australia. Samko's production facilities include six timber processing plants in Sumatra, Java and Sulawesi. 10 satellite veneer plants in Java and Sumatra and one chemical glue facility in Sumatra. Samko has approximately 450,000 hectares of natural forest concessions and approximately 125,000 hectares of industrial forest plantations. It obtains the logs for the production of its processed timber products from natural forest logs purchased from third party log suppliers and plantation logs purchased mainly from community forests in Java and Sumatra.\n",
       "     </dd>\n",
       " </div>\n",
       " <div class=\"announcement-footer announcement-info\">\n",
       "     Information last updated on\n",
       "         <span class=\"displayLabel\" id=\"ctl07_updatedOnLbl\"><span id=\"ctl07_updatedOnLbl\">08/05/2020 08:45:22 AM</span></span>\n",
       " </div></div>\n",
       " </form>\n",
       " </body>\n",
       " </html>,\n",
       " '\\n']"
      ]
     },
     "execution_count": 2,
     "metadata": {},
     "output_type": "execute_result"
    }
   ],
   "source": [
    "url = \"https://links.sgx.com/1.0.0/corporate-information/2178\"\n",
    "page = requests.get(url)\n",
    "soup = BeautifulSoup(page.content, 'html.parser')\n",
    "list(soup.children)"
   ]
  },
  {
   "cell_type": "code",
   "execution_count": 3,
   "metadata": {},
   "outputs": [],
   "source": [
    "#extracting relevant information from url \n",
    "company_name = soup.find(id=\"ctl07_compFullNameLabel\").get_text()\n",
    "company_link = soup.find(id='ctl07_compWebHypLink').get_text()\n",
    "incorporated = soup.find(id='ctl07_incorporatedLabel').get_text()\n",
    "listed_on = soup.find(id='ctl07_listingDateLabel').get_text()\n",
    "ISIN_code = soup.find(id='ctl07_isinCodeLabel').get_text()\n",
    "\n",
    "print(company_name)\n",
    "print(company_link)\n",
    "print(incorporated)\n",
    "print(listed_on)\n",
    "print(ISIN_code)"
   ]
  },
  {
   "cell_type": "code",
   "execution_count": 5,
   "metadata": {},
   "outputs": [
    {
     "data": {
      "text/plain": [
       "['\\n',\n",
       " 'html PUBLIC \"-//W3C//DTD XHTML 1.0 Transitional//EN\" \"http://www.w3.org/TR/xhtml1/DTD/xhtml1-transitional.dtd\"',\n",
       " '\\n',\n",
       " <html xmlns=\"http://www.w3.org/1999/xhtml\">\n",
       " <head>\n",
       " <style type=\"text/css\">\n",
       "         .ms-descriptiontext\n",
       "         {\n",
       "             /* [ReplaceColor(themeColor:\"Dark1-Medium\")] */\n",
       "             color: #4c4c4c;\n",
       "             font-family: tahoma;\n",
       "             font-size: 8pt;\n",
       "             text-align: left;\n",
       "         }\n",
       "         td\n",
       "         {\n",
       "             font-size: 12px;\n",
       "         }\n",
       "     </style>\n",
       " <title>\n",
       " \tError\n",
       " </title><link href=\"/image/favicon.ico\" rel=\"shortcut icon\" type=\"image/x-icon\"/></head>\n",
       " <body>\n",
       " <form action=\"./CustomErrorPage.aspx\" id=\"form1\" method=\"post\" name=\"form1\">\n",
       " <input id=\"__VIEWSTATE\" name=\"__VIEWSTATE\" type=\"hidden\" value=\"/wEPDwUKLTQ1MDg0MTUzOA9kFgICAw9kFgQCAQ8PFgQeBFRleHQFEE5vIFJlY29yZCBGb3VuZC4eB1Zpc2libGVnZGQCBQ8PFgQfAAUUMTkvOS8yMDIwIDI6MjA6NTIgUE0fAWdkZGSoe9fa+5Lzfo6jj8/wmDwPfkhC4Q==\"/>\n",
       " <input id=\"__VIEWSTATEGENERATOR\" name=\"__VIEWSTATEGENERATOR\" type=\"hidden\" value=\"5D7FC467\"/>\n",
       " <div>\n",
       " <!-- Error Msg-->\n",
       " <table border=\"0\" cellpadding=\"0\" width=\"100%\">\n",
       " <tr>\n",
       " <td class=\"ms-descriptiontext\" style=\"padding-top: 10px\" valign=\"top\" width=\"100%\">\n",
       " <p>\n",
       " <img alt=\"SGX\" src=\"/_layouts/1033/styles/SGX.COW.MasterPage/SGX_COW_MasterPage/SgxImages/SGXLogo.jpg\"/>\n",
       " </p>\n",
       " <p style=\"color: Black; font-size: 10px;font-family:Arial\">\n",
       " <span id=\"errorPageTitleSpan\">\n",
       " <span id=\"lblErrorMsg\">No Record Found.</span>\n",
       " </span>\n",
       " </p>\n",
       " </td>\n",
       " </tr>\n",
       " <tr>\n",
       " <td>\n",
       " <strong>Date:</strong>\n",
       " <span id=\"lblDate\">19/9/2020 2:20:52 PM</span>\n",
       " </td>\n",
       " </tr>\n",
       " </table>\n",
       " </div>\n",
       " </form>\n",
       " </body>\n",
       " </html>,\n",
       " '\\n']"
      ]
     },
     "execution_count": 5,
     "metadata": {},
     "output_type": "execute_result"
    }
   ],
   "source": [
    "#trying to see how to debug a webpage that doesnt exist\n",
    "url = \"https://links.sgx.com/1.0.0/corporate-information/3000\"\n",
    "page = requests.get(url)\n",
    "soup = BeautifulSoup(page.content, 'html.parser')\n",
    "list(soup.children)"
   ]
  },
  {
   "cell_type": "code",
   "execution_count": 6,
   "metadata": {},
   "outputs": [
    {
     "data": {
      "text/plain": [
       "'\\r\\n\\tError\\r\\n'"
      ]
     },
     "execution_count": 6,
     "metadata": {},
     "output_type": "execute_result"
    }
   ],
   "source": [
    "# Think we can do a if else statement based on differences in title \n",
    "soup.find('title').get_text()"
   ]
  },
  {
   "cell_type": "code",
   "execution_count": 7,
   "metadata": {},
   "outputs": [
    {
     "data": {
      "text/plain": [
       "'\\n'"
      ]
     },
     "execution_count": 7,
     "metadata": {},
     "output_type": "execute_result"
    }
   ],
   "source": [
    "url = \"https://links.sgx.com/1.0.0/corporate-information/2178\"\n",
    "page = requests.get(url)\n",
    "soup = BeautifulSoup(page.content, 'html.parser')\n",
    "soup.find('title').get_text()"
   ]
  },
  {
   "cell_type": "markdown",
   "metadata": {},
   "source": [
    "## Actual Scraping"
   ]
  },
  {
   "cell_type": "code",
   "execution_count": 18,
   "metadata": {},
   "outputs": [
    {
     "name": "stdout",
     "output_type": "stream",
     "text": [
      "[965]\n",
      "[965, 966]\n",
      "[965, 966, 967]\n",
      "[965, 966, 967, 968]\n",
      "[965, 966, 967, 968, 969]\n",
      "[965, 966, 967, 968, 969, 970]\n",
      "[965, 966, 967, 968, 969, 970, 971]\n",
      "[965, 966, 967, 968, 969, 970, 971, 972]\n",
      "[965, 966, 967, 968, 969, 970, 971, 972, 973]\n",
      "[965, 966, 967, 968, 969, 970, 971, 972, 973, 974]\n",
      "[965, 966, 967, 968, 969, 970, 971, 972, 973, 974, 975]\n",
      "[965, 966, 967, 968, 969, 970, 971, 972, 973, 974, 975, 976]\n",
      "[965, 966, 967, 968, 969, 970, 971, 972, 973, 974, 975, 976, 977]\n",
      "[965, 966, 967, 968, 969, 970, 971, 972, 973, 974, 975, 976, 977, 978]\n",
      "[965, 966, 967, 968, 969, 970, 971, 972, 973, 974, 975, 976, 977, 978, 979]\n",
      "[965, 966, 967, 968, 969, 970, 971, 972, 973, 974, 975, 976, 977, 978, 979, 980]\n",
      "[965, 966, 967, 968, 969, 970, 971, 972, 973, 974, 975, 976, 977, 978, 979, 980, 981]\n",
      "[965, 966, 967, 968, 969, 970, 971, 972, 973, 974, 975, 976, 977, 978, 979, 980, 981, 982]\n",
      "[965, 966, 967, 968, 969, 970, 971, 972, 973, 974, 975, 976, 977, 978, 979, 980, 981, 982, 983]\n",
      "[965, 966, 967, 968, 969, 970, 971, 972, 973, 974, 975, 976, 977, 978, 979, 980, 981, 982, 983, 984]\n",
      "[965, 966, 967, 968, 969, 970, 971, 972, 973, 974, 975, 976, 977, 978, 979, 980, 981, 982, 983, 984, 985]\n",
      "[965, 966, 967, 968, 969, 970, 971, 972, 973, 974, 975, 976, 977, 978, 979, 980, 981, 982, 983, 984, 985, 986]\n",
      "[965, 966, 967, 968, 969, 970, 971, 972, 973, 974, 975, 976, 977, 978, 979, 980, 981, 982, 983, 984, 985, 986, 987]\n",
      "[965, 966, 967, 968, 969, 970, 971, 972, 973, 974, 975, 976, 977, 978, 979, 980, 981, 982, 983, 984, 985, 986, 987, 989]\n",
      "[965, 966, 967, 968, 969, 970, 971, 972, 973, 974, 975, 976, 977, 978, 979, 980, 981, 982, 983, 984, 985, 986, 987, 989, 990]\n",
      "[965, 966, 967, 968, 969, 970, 971, 972, 973, 974, 975, 976, 977, 978, 979, 980, 981, 982, 983, 984, 985, 986, 987, 989, 990, 991]\n",
      "[965, 966, 967, 968, 969, 970, 971, 972, 973, 974, 975, 976, 977, 978, 979, 980, 981, 982, 983, 984, 985, 986, 987, 989, 990, 991, 992]\n",
      "[965, 966, 967, 968, 969, 970, 971, 972, 973, 974, 975, 976, 977, 978, 979, 980, 981, 982, 983, 984, 985, 986, 987, 989, 990, 991, 992, 993]\n",
      "[965, 966, 967, 968, 969, 970, 971, 972, 973, 974, 975, 976, 977, 978, 979, 980, 981, 982, 983, 984, 985, 986, 987, 989, 990, 991, 992, 993, 994]\n",
      "[965, 966, 967, 968, 969, 970, 971, 972, 973, 974, 975, 976, 977, 978, 979, 980, 981, 982, 983, 984, 985, 986, 987, 989, 990, 991, 992, 993, 994, 995]\n",
      "[965, 966, 967, 968, 969, 970, 971, 972, 973, 974, 975, 976, 977, 978, 979, 980, 981, 982, 983, 984, 985, 986, 987, 989, 990, 991, 992, 993, 994, 995, 996]\n",
      "[965, 966, 967, 968, 969, 970, 971, 972, 973, 974, 975, 976, 977, 978, 979, 980, 981, 982, 983, 984, 985, 986, 987, 989, 990, 991, 992, 993, 994, 995, 996, 997]\n",
      "[965, 966, 967, 968, 969, 970, 971, 972, 973, 974, 975, 976, 977, 978, 979, 980, 981, 982, 983, 984, 985, 986, 987, 989, 990, 991, 992, 993, 994, 995, 996, 997, 998]\n",
      "[965, 966, 967, 968, 969, 970, 971, 972, 973, 974, 975, 976, 977, 978, 979, 980, 981, 982, 983, 984, 985, 986, 987, 989, 990, 991, 992, 993, 994, 995, 996, 997, 998, 999]\n"
     ]
    }
   ],
   "source": [
    "# First loop from 1 to less than 1000\n",
    "id_1 = []\n",
    "coy_name_1 = []\n",
    "coy_weblink_1 = []\n",
    "coy_country_1 = []\n",
    "coy_listing_1 = []\n",
    "coy_ISIN_1 = []\n",
    "for n in range(1000):\n",
    "    url = \"https://links.sgx.com/1.0.0/corporate-information/\"+ str(n)\n",
    "    page = requests.get(url, timeout=30)\n",
    "    soup = BeautifulSoup(page.content, 'html.parser')\n",
    "    \n",
    "    if soup.find('title').get_text() == '\\r\\n\\tError\\r\\n':\n",
    "        pass\n",
    "    else: \n",
    "        id_1.append(n)\n",
    "        print(id_1)\n",
    "        coy_name_1.append(soup.find(id=\"ctl07_compFullNameLabel\").get_text())\n",
    "        coy_country_1.append(soup.find(id='ctl07_incorporatedLabel').get_text())\n",
    "        coy_listing_1.append(soup.find(id='ctl07_listingDateLabel').get_text())\n",
    "        coy_ISIN_1.append(soup.find(id='ctl07_isinCodeLabel').get_text())\n",
    "        coy_weblink_1.append(soup.find(id='ctl07_compWebHypLink').get_text())"
   ]
  },
  {
   "cell_type": "code",
   "execution_count": 13,
   "metadata": {},
   "outputs": [],
   "source": [
    "# Second loop from 1000 to 2999\n",
    "id_2 = []\n",
    "coy_name_2 = []\n",
    "coy_weblink_2 = []\n",
    "coy_country_2 = []\n",
    "coy_listing_2 = []\n",
    "coy_ISIN_2 = []\n",
    "for n in range(1000,2999):\n",
    "    url = \"https://links.sgx.com/1.0.0/corporate-information/\"+ str(n)\n",
    "    page = requests.get(url, timeout=30)\n",
    "    soup = BeautifulSoup(page.content, 'html.parser')\n",
    "    \n",
    "    if soup.find('title').get_text() == '\\r\\n\\tError\\r\\n':\n",
    "        pass\n",
    "    else: \n",
    "        id_2.append(n)\n",
    "        coy_name_2.append(soup.find(id=\"ctl07_compFullNameLabel\").get_text())\n",
    "        coy_country_2.append(soup.find(id='ctl07_incorporatedLabel').get_text())\n",
    "        coy_listing_2.append(soup.find(id='ctl07_listingDateLabel').get_text())\n",
    "        coy_ISIN_2.append(soup.find(id='ctl07_isinCodeLabel').get_text())\n",
    "        coy_weblink_2.append(soup.find(id='ctl07_compWebHypLink').get_text())"
   ]
  },
  {
   "cell_type": "code",
   "execution_count": 15,
   "metadata": {},
   "outputs": [
    {
     "name": "stdout",
     "output_type": "stream",
     "text": [
      "[1000, 1001, 1002, 1003, 1004, 1005, 1006, 1007, 1008, 1009, 1010, 1011, 1012, 1013, 1014, 1015, 1016, 1017, 1019, 1020, 1021, 1022, 1023, 1024, 1025, 1026, 1027, 1028, 1029, 1030, 1031, 1032, 1033, 1034, 1035, 1036, 1037, 1038, 1039, 1040, 1041, 1042, 1043, 1044, 1045, 1046, 1047, 1048, 1049, 1050, 1051, 1052, 1053, 1054, 1055, 1056, 1057, 1058, 1059, 1061, 1062, 1063, 1064, 1065, 1066, 1067, 1068, 1069, 1070, 1071, 1072, 1073, 1074, 1075, 1076, 1077, 1078, 1079, 1080, 1081, 1082, 1083, 1084, 1085, 1086, 1087, 1088, 1089, 1090, 1091, 1092, 1093, 1094, 1095, 1096, 1097, 1098, 1099, 1100, 1101, 1102, 1103, 1104, 1105, 1106, 1107, 1108, 1109, 1110, 1111, 1112, 1113, 1114, 1115, 1116, 1117, 1118, 1119, 1120, 1121, 1122, 1123, 1124, 1125, 1126, 1127, 1128, 1129, 1130, 1131, 1132, 1133, 1134, 1135, 1136, 1137, 1138, 1139, 1140, 1141, 1142, 1143, 1144, 1145, 1147, 1149, 1150, 1151, 1152, 1153, 1154, 1155, 1156, 1157, 1158, 1159, 1160, 1161, 1162, 1163, 1164, 1165, 1166, 1167, 1168, 1169, 1170, 1172, 1173, 1174, 1175, 1176, 1177, 1178, 1179, 1180, 1181, 1182, 1183, 1184, 1185, 1186, 1187, 1188, 1189, 1190, 1191, 1192, 1193, 1194, 1195, 1196, 1197, 1198, 1199, 1200, 1201, 1202, 1204, 1205, 1206, 1207, 1208, 1209, 1210, 1211, 1212, 1213, 1214, 1215, 1216, 1217, 1218, 1219, 1220, 1221, 1222, 1223, 1224, 1225, 1226, 1227, 1228, 1229, 1230, 1231, 1232, 1233, 1234, 1235, 1236, 1237, 1238, 1239, 1240, 1241, 1242, 1243, 1244, 1245, 1246, 1247, 1248, 1249, 1250, 1251, 1252, 1253, 1254, 1255, 1256, 1257, 1258, 1259, 1260, 1261, 1262, 1263, 1265, 1266, 1267, 1268, 1269, 1270, 1271, 1272, 1273, 1274, 1275, 1276, 1277, 1278, 1280, 1281, 1283, 1284, 1285, 1286, 1287, 1288, 1289, 1290, 1291, 1292, 1293, 1294, 1295, 1296, 1297, 1298, 1299, 1300, 1301, 1302, 1303, 1304, 1305, 1306, 1307, 1308, 1309, 1310, 1311, 1312, 1313, 1314, 1315, 1317, 1318, 1319, 1320, 1321, 1323, 1324, 1325, 1326, 1327, 1328, 1330, 1331, 1332, 1333, 1334, 1335, 1336, 1337, 1338, 1339, 1340, 1341, 1342, 1343, 1344, 1345, 1347, 1348, 1349, 1350, 1351, 1352, 1353, 1354, 1355, 1356, 1357, 1358, 1359, 1360, 1361, 1362, 1363, 1364, 1365, 1366, 1367, 1368, 1369, 1370, 1371, 1372, 1373, 1374, 1375, 1376, 1377, 1378, 1379, 1380, 1381, 1382, 1383, 1384, 1385, 1386, 1387, 1388, 1389, 1390, 1391, 1392, 1395, 1396, 1397, 1398, 1399, 1400, 1401, 1402, 1403, 1404, 1405, 1406, 1407, 1408, 1409, 1410, 1411, 1412, 1413, 1414, 1415, 1416, 1417, 1418, 1419, 1420, 1421, 1422, 1423, 1424, 1425, 1426, 1427, 1428, 1429, 1430, 1431, 1432, 1433, 1434, 1435, 1436, 1437, 1438, 1439, 1440, 1441, 1442, 1443, 1444, 1445, 1446, 1447, 1448, 1449, 1450, 1451, 1452, 1453, 1454, 1455, 1456, 1457, 1458, 1459, 1460, 1461, 1462, 1463, 1464, 1465, 1467, 1468, 1470, 1472, 1473, 1474, 1475, 1476, 1477, 1478, 1479, 1480, 1481, 1482, 1483, 1484, 1485, 1486, 1487, 1488, 1489, 1490, 1491, 1492, 1493, 1494, 1495, 1496, 1497, 1498, 1499, 1500, 1501, 1502, 1503, 1504, 1505, 1506, 1507, 1508, 1510, 1511, 1512, 1513, 1514, 1515, 1516, 1517, 1518, 1519, 1520, 1521, 1522, 1523, 1524, 1525, 1526, 1527, 1528, 1529, 1530, 1531, 1532, 1533, 1534, 1535, 1536, 1537, 1538, 1539, 1540, 1541, 1542, 1543, 1544, 1546, 1547, 1548, 1549, 1550, 1551, 1552, 1553, 1554, 1555, 1556, 1557, 1559, 1560, 1562, 1563, 1564, 1565, 1566, 1567, 1568, 1569, 1570, 1571, 1573, 1574, 1575, 1576, 1577, 1578, 1579, 1580, 1581, 1582, 1583, 1584, 1585, 1586, 1587, 1588, 1589, 1591, 1592, 1593, 1594, 1595, 1596, 1597, 1598, 1599, 1600, 1601, 1602, 1604, 1606, 1607, 1608, 1609, 1610, 1611, 1612, 1613, 1614, 1615, 1617, 1618, 1619, 1620, 1621, 1622, 1623, 1624, 1625, 1626, 1627, 1628, 1629, 1630, 1631, 1632, 1633, 1635, 1636, 1637, 1638, 1639, 1640, 1641, 1642, 1643, 1644, 1645, 1646, 1647, 1648, 1649, 1650, 1651, 1652, 1653, 1656, 1657, 1658, 1659, 1660, 1661, 1662, 1663, 1664, 1665, 1666, 1667, 1668, 1669, 1670, 1671, 1672, 1673, 1674, 1675, 1676, 1677, 1678, 1679, 1680, 1681, 1682, 1683, 1684, 1685, 1686, 1687, 1688, 1689, 1691, 1692, 1693, 1694, 1695, 1697, 1698, 1699, 1700, 1701, 1702, 1703, 1704, 1705, 1706, 1707, 1709, 1710, 1711, 1712, 1713, 1714, 1715, 1716, 1717, 1718, 1719, 1720, 1721, 1722, 1723, 1724, 1725, 1726, 1727, 1728, 1729, 1730, 1731, 1732, 1733, 1734, 1735, 1736, 1737, 1739, 1740, 1742, 1743, 1744, 1745, 1746, 1747, 1748, 1749, 1750, 1751, 1752, 1753, 1754, 1756, 1757, 1758, 1759, 1760, 1761, 1762, 1763, 1765, 1766, 1767, 1769, 1770, 1771, 1772, 1773, 1774, 1775, 1776, 1777, 1778, 1779, 1780, 1781, 1782, 1783, 1784, 1785, 1786, 1787, 1788, 1789, 1790, 1791, 1792, 1793, 1794, 1795, 1796, 1797, 1798, 1799, 1800, 1801, 1802, 1803, 1804, 1805, 1806, 1807, 1808, 1809, 1810, 1811, 1814, 1815, 1816, 1817, 1818, 1819, 1820, 1821, 1823, 1824, 1825, 1826, 1827, 1828, 1829, 1830, 1831, 1832, 1833, 1834, 1835, 1836, 1837, 1838, 1839, 1840, 1841, 1842, 1843, 1844, 1845, 1846, 1847, 1848, 1849, 1850, 1851, 1852, 1853, 1854, 1855, 1856, 1857, 1858, 1859, 1860, 1861, 1862, 1863, 1864, 1865, 1866, 1867, 1868, 1869, 1870, 1871, 1872, 1873, 1874, 1875, 1876, 1877, 1878, 1879, 1880, 1881, 1882, 1883, 1884, 1885, 1886, 1887, 1888, 1889, 1890, 1891, 1892, 1893, 1894, 1895, 1896, 1897, 1898, 1899, 1900, 1901, 1902, 1903, 1904, 1905, 1906, 1907, 1908, 1909, 1910, 1911, 1912, 1913, 1914, 1915, 1916, 1917, 1918, 1919, 1920, 1921, 1922, 1923, 1924, 1925, 1926, 1927, 1928, 1929, 1930, 1931, 1932, 1933, 1934, 1935, 1936, 1937, 1938, 1939, 1940, 1941, 1942, 1943, 1944, 1945, 1946, 1947, 1948, 1949, 1950, 1951, 1952, 1953, 1954, 1955, 1956, 1957, 1958, 1959, 1960, 1961, 1962, 1963, 1964, 1965, 1966, 1967, 1968, 1969, 1970, 1971, 1972, 1973, 1974, 1975, 1976, 1977, 1978, 1979, 1980, 1981, 1982, 1983, 1984, 1985, 1986, 1987, 1988, 1989, 1990, 1991, 1992, 1993, 1994, 1995, 1996, 1997, 1998, 1999, 2000, 2001, 2002, 2003, 2004, 2005, 2006, 2007, 2008, 2009, 2010, 2011, 2012, 2013, 2014, 2015, 2016, 2017, 2018, 2019, 2020, 2021, 2022, 2023, 2024, 2025, 2026, 2027, 2028, 2029, 2030, 2031, 2032, 2033, 2034, 2035, 2036, 2038, 2039, 2040, 2041, 2042, 2043, 2044, 2045, 2046, 2047, 2048, 2049, 2050, 2051, 2052, 2053, 2054, 2055, 2056, 2057, 2058, 2059, 2060, 2061, 2062, 2063, 2064, 2065, 2066, 2067, 2068, 2069, 2070, 2071, 2072, 2073, 2074, 2075, 2076, 2077, 2078, 2079, 2080, 2081, 2082, 2083, 2084, 2085, 2086, 2087, 2088, 2089, 2090, 2091, 2092, 2093, 2094, 2095, 2096, 2097, 2098, 2099, 2100, 2101, 2102, 2103, 2104, 2105, 2106, 2107, 2108, 2109, 2110, 2111, 2112, 2113, 2114, 2115, 2116, 2117, 2118, 2119, 2120, 2121, 2122, 2123, 2124, 2125, 2126, 2127, 2128, 2129, 2130, 2131, 2132, 2133, 2134, 2135, 2136, 2137, 2138, 2139, 2140, 2141, 2142, 2143, 2144, 2145, 2146, 2147, 2148, 2149, 2150, 2151, 2152, 2153, 2154, 2155, 2156, 2157, 2158, 2159, 2160, 2161, 2162, 2163, 2164, 2165, 2166, 2167, 2168, 2169, 2170, 2171, 2172, 2173, 2174, 2175, 2176, 2177, 2178, 2179, 2180, 2181, 2182, 2183, 2184, 2185, 2186, 2187, 2188, 2189, 2190, 2191, 2192, 2193, 2194, 2195, 2196, 2197, 2198, 2199, 2200, 2201, 2202, 2203, 2204, 2205, 2206, 2207, 2208, 2209, 2210, 2211, 2212, 2213, 2214, 2215, 2216, 2217, 2218, 2219, 2220, 2221, 2222, 2223, 2224, 2225, 2226, 2227, 2228, 2229, 2230, 2231, 2232, 2233, 2234, 2235, 2236, 2237, 2238, 2239, 2240, 2241, 2242, 2243, 2244, 2245, 2246, 2247, 2248, 2249, 2250, 2251, 2252, 2253, 2254, 2255, 2256, 2257, 2258, 2259, 2260, 2261, 2262, 2263, 2264, 2265, 2266, 2267, 2268, 2269, 2270, 2271, 2272, 2273, 2274, 2275, 2276, 2277, 2278, 2279, 2280, 2281, 2282, 2283, 2284, 2285, 2286, 2287, 2288, 2289, 2290, 2291, 2292, 2293, 2294, 2295, 2296, 2297, 2298, 2299, 2300, 2301, 2302, 2303, 2304, 2305, 2306, 2307, 2308, 2309, 2310, 2311, 2312, 2313, 2314, 2315, 2316, 2317, 2318, 2319, 2320, 2321, 2322, 2323, 2324, 2325, 2326, 2327, 2328, 2329, 2330, 2331, 2332, 2333, 2334, 2335, 2336, 2337, 2338, 2339, 2340, 2341, 2342, 2343, 2344, 2345, 2346, 2347, 2348, 2349, 2350, 2351, 2352, 2353, 2354, 2355, 2356, 2357, 2358, 2359, 2360, 2361, 2362, 2363, 2364, 2365, 2366, 2367, 2368, 2369, 2370, 2371, 2372, 2373, 2374, 2375, 2376, 2377, 2378, 2379, 2380, 2381, 2382, 2383, 2384, 2385, 2386, 2387, 2388, 2389, 2390, 2391, 2392, 2393, 2394, 2395, 2396, 2397, 2398, 2399, 2400, 2401, 2402, 2403, 2404, 2405, 2406, 2407, 2408, 2409, 2410, 2411, 2412, 2413, 2414, 2415, 2417, 2418, 2419, 2420, 2421, 2422, 2423, 2424, 2425, 2426, 2427, 2428, 2429, 2430, 2431, 2432, 2433, 2434, 2435, 2436, 2437, 2438, 2439, 2440, 2441, 2442, 2443, 2444, 2445, 2446, 2447, 2448, 2449, 2450, 2451, 2452, 2453, 2454, 2455, 2456, 2457, 2458, 2459, 2460, 2461, 2462, 2463, 2464, 2465, 2466, 2467, 2468, 2469, 2470, 2471, 2472, 2473, 2474, 2475, 2476, 2477, 2478, 2479, 2480, 2481, 2482, 2483, 2484, 2485, 2486, 2487, 2488, 2489, 2490, 2491, 2492, 2493, 2494, 2495, 2496, 2497, 2498, 2499, 2500, 2501, 2502, 2503, 2504, 2505, 2506, 2507, 2508, 2509, 2510, 2511, 2512, 2513, 2514, 2515, 2516, 2517, 2518, 2519, 2520, 2521, 2522, 2523, 2525, 2526, 2527, 2528, 2529, 2532, 2534, 2535, 2536, 2537, 2538, 2539, 2540, 2541, 2542, 2543, 2544, 2545, 2546, 2547, 2548, 2549, 2550, 2551, 2552, 2553, 2554, 2555, 2556, 2557, 2558, 2559, 2560, 2561, 2562, 2563, 2564, 2565, 2566, 2567, 2568, 2569, 2570, 2571, 2572, 2573, 2574, 2575, 2576, 2577, 2578, 2579, 2580, 2581, 2582, 2583, 2584, 2585, 2586, 2587, 2588, 2589, 2590, 2591, 2592, 2593, 2594, 2595, 2596, 2597, 2598, 2599, 2600, 2601, 2602, 2603, 2604, 2605, 2606, 2607, 2608, 2609, 2610, 2611, 2612, 2613, 2614, 2615, 2616, 2617, 2618, 2619, 2620, 2621, 2622, 2623, 2624, 2625, 2626, 2627, 2628, 2629, 2630, 2631, 2632, 2633, 2634, 2635, 2636, 2637, 2638, 2639, 2640, 2641, 2642, 2643, 2644, 2645, 2646, 2647, 2648, 2649, 2650, 2651, 2652, 2653, 2654, 2655, 2656, 2657, 2658, 2659, 2660, 2661, 2662, 2663, 2664, 2665, 2666, 2667, 2668, 2669, 2670, 2671, 2672, 2673, 2674, 2675, 2676, 2677, 2678, 2679, 2680, 2681, 2682, 2683, 2684, 2685, 2686, 2687, 2688, 2689, 2690, 2691, 2692, 2693, 2694, 2695, 2696, 2697, 2698, 2699, 2700, 2701, 2702, 2703, 2704, 2705, 2706, 2707, 2708, 2709, 2710, 2711, 2712, 2713, 2714, 2715, 2716, 2717, 2718, 2719, 2720, 2721, 2722, 2723, 2724, 2725, 2726, 2727, 2728, 2729, 2730, 2731, 2732, 2733, 2734, 2735, 2736, 2737, 2738, 2739, 2740, 2741, 2742, 2743, 2744, 2745, 2746, 2747, 2748, 2749, 2750, 2751, 2752, 2753, 2754, 2755, 2756, 2757, 2758, 2759, 2760, 2761, 2762, 2763, 2764, 2765, 2766, 2767, 2768, 2769, 2770, 2771, 2772, 2773, 2774, 2775, 2776, 2777, 2778, 2779, 2780, 2781, 2782, 2783, 2784, 2785, 2786, 2787, 2788, 2789, 2790, 2791, 2792, 2793, 2794, 2795, 2796, 2798, 2799, 2800, 2801, 2802, 2803, 2804, 2805, 2806, 2807, 2808, 2809, 2810, 2811, 2812, 2813, 2814, 2815, 2816, 2817, 2818, 2819, 2820, 2821, 2822, 2823, 2824, 2825, 2826, 2827, 2828, 2829, 2830, 2831, 2832, 2833, 2834, 2835, 2836, 2837, 2838, 2839, 2840, 2841, 2842, 2843, 2844, 2845, 2846, 2847, 2848, 2849, 2850, 2851, 2852, 2853, 2854, 2855, 2856, 2857, 2858, 2859, 2860, 2861, 2862, 2863, 2864, 2865, 2866, 2867, 2868, 2869, 2870, 2871, 2872, 2873, 2874, 2875, 2876, 2877, 2878, 2879, 2880, 2881, 2882, 2883, 2884, 2885, 2886, 2887, 2888, 2889, 2890, 2891, 2892, 2893, 2894, 2895, 2896, 2897, 2898, 2899, 2900, 2901, 2902, 2903, 2904, 2905]\n"
     ]
    }
   ],
   "source": [
    "print(id_2)"
   ]
  },
  {
   "cell_type": "code",
   "execution_count": 21,
   "metadata": {},
   "outputs": [
    {
     "name": "stdout",
     "output_type": "stream",
     "text": [
      "2905\n"
     ]
    }
   ],
   "source": [
    "id_final = id_1 + id_2\n",
    "print(id_final[-1])\n",
    "coy_country_final =coy_country_1 + coy_country_2\n",
    "coy_ISIN_final = coy_ISIN_1 + coy_ISIN_2\n",
    "coy_listing_final = coy_listing_1 + coy_listing_2\n",
    "coy_name_final = coy_name_1 + coy_name_2\n",
    "coy_weblink_final = coy_weblink_1 + coy_weblink_2"
   ]
  },
  {
   "cell_type": "code",
   "execution_count": 25,
   "metadata": {},
   "outputs": [
    {
     "data": {
      "text/html": [
       "<div>\n",
       "<style scoped>\n",
       "    .dataframe tbody tr th:only-of-type {\n",
       "        vertical-align: middle;\n",
       "    }\n",
       "\n",
       "    .dataframe tbody tr th {\n",
       "        vertical-align: top;\n",
       "    }\n",
       "\n",
       "    .dataframe thead th {\n",
       "        text-align: right;\n",
       "    }\n",
       "</style>\n",
       "<table border=\"1\" class=\"dataframe\">\n",
       "  <thead>\n",
       "    <tr style=\"text-align: right;\">\n",
       "      <th></th>\n",
       "      <th>id</th>\n",
       "      <th>coy_name</th>\n",
       "      <th>coy_listing</th>\n",
       "      <th>ISIN</th>\n",
       "      <th>coy_weblink</th>\n",
       "    </tr>\n",
       "  </thead>\n",
       "  <tbody>\n",
       "    <tr>\n",
       "      <td>0</td>\n",
       "      <td>965</td>\n",
       "      <td>Acma Limited (formerly: China Auto Corporation...</td>\n",
       "      <td>Listed on June 1968 on SGX Mainboard</td>\n",
       "      <td>SG1A01000524</td>\n",
       "      <td></td>\n",
       "    </tr>\n",
       "    <tr>\n",
       "      <td>1</td>\n",
       "      <td>966</td>\n",
       "      <td>Aluminium Company of Malaysia Berhad</td>\n",
       "      <td></td>\n",
       "      <td></td>\n",
       "      <td></td>\n",
       "    </tr>\n",
       "    <tr>\n",
       "      <td>2</td>\n",
       "      <td>967</td>\n",
       "      <td>Alliance Technology And Development Limited (I...</td>\n",
       "      <td>Listed on 11 July 1978 on SGX Mainboard</td>\n",
       "      <td>SG1N10002086</td>\n",
       "      <td></td>\n",
       "    </tr>\n",
       "    <tr>\n",
       "      <td>3</td>\n",
       "      <td>968</td>\n",
       "      <td>Furama Ltd. (formerly: Apollo Enterprises Limi...</td>\n",
       "      <td>Listed on 1 September 1976 on SGX Mainboard</td>\n",
       "      <td>SG1N01002046</td>\n",
       "      <td>http://www.furama.com</td>\n",
       "    </tr>\n",
       "    <tr>\n",
       "      <td>4</td>\n",
       "      <td>969</td>\n",
       "      <td>Amsteel Corporation Berhad (formerly: Amalgama...</td>\n",
       "      <td></td>\n",
       "      <td></td>\n",
       "      <td></td>\n",
       "    </tr>\n",
       "  </tbody>\n",
       "</table>\n",
       "</div>"
      ],
      "text/plain": [
       "    id                                           coy_name  \\\n",
       "0  965  Acma Limited (formerly: China Auto Corporation...   \n",
       "1  966               Aluminium Company of Malaysia Berhad   \n",
       "2  967  Alliance Technology And Development Limited (I...   \n",
       "3  968  Furama Ltd. (formerly: Apollo Enterprises Limi...   \n",
       "4  969  Amsteel Corporation Berhad (formerly: Amalgama...   \n",
       "\n",
       "                                   coy_listing          ISIN  \\\n",
       "0         Listed on June 1968 on SGX Mainboard  SG1A01000524   \n",
       "1                                                              \n",
       "2      Listed on 11 July 1978 on SGX Mainboard  SG1N10002086   \n",
       "3  Listed on 1 September 1976 on SGX Mainboard  SG1N01002046   \n",
       "4                                                              \n",
       "\n",
       "             coy_weblink  \n",
       "0                         \n",
       "1                         \n",
       "2                         \n",
       "3  http://www.furama.com  \n",
       "4                         "
      ]
     },
     "execution_count": 25,
     "metadata": {},
     "output_type": "execute_result"
    }
   ],
   "source": [
    "df = pd.DataFrame(list(zip(id_final, coy_name_final, coy_listing_final, coy_ISIN_final, coy_weblink_final)),\n",
    "              columns=['id','coy_name','coy_listing','ISIN','coy_weblink'])\n",
    "df.head()"
   ]
  },
  {
   "cell_type": "code",
   "execution_count": 26,
   "metadata": {},
   "outputs": [
    {
     "name": "stderr",
     "output_type": "stream",
     "text": [
      "C:\\Users\\user\\Anaconda3\\lib\\site-packages\\xlsxwriter\\worksheet.py:931: UserWarning: Ignoring URL 'http://www.macquarie.com/miif/\n",
      "\n",
      "Disclosure%20of%20interests%20notification\n",
      "If%20you%20are%20a%20reporting%20person%20wishing%20to%20disclose%20your%20interest%20in%20MIIF%20\n",
      "pursuant%20to%20Part%20VII%20(Disclosure%20of%20Interests)%20of%20the%20Securities%20and%20Futures%20\n",
      "(Cap.%20289),%20please%20email%20your%20duly%20completed%20notificationform%20to:%20MIIF%20\n",
      "Notifications%20at%20notify.miif@macquarie.com.\n",
      "Reporting%20persons%20are%20required%20to%20give%20notice%20using%20only%20notification%20forms%20\n",
      "which%20are%20prescribed%20by%20the%20Monetary%20Authority%20of%20Singapore%20(“MAS”).%20The%20\n",
      "notification%20forms%20are%20available%20for%20download%20on%20the%20MAS’%20internet%20website,%20\n",
      "which%20can%20be%20accessed%20at%20http://www.mas.gov.sg%20(“Regulations%20and%20Financial%20\n",
      "Stability”%20%3e%20“Regulations,%20Guidance%20and%20Licensing”%20%3e%20“Securities,%20Futures%20and%20\n",
      "Fund%20Management”%20%3e%20“Forms”%20%3e%20“Disclosure%20of%20Interests”).' with link or location/anchor > 255 characters since it exceeds Excel's limit for URLS\n",
      "  force_unicode(url))\n"
     ]
    }
   ],
   "source": [
    "df.to_excel('scraped_raw.xlsx')"
   ]
  },
  {
   "cell_type": "code",
   "execution_count": null,
   "metadata": {},
   "outputs": [],
   "source": []
  }
 ],
 "metadata": {
  "kernelspec": {
   "display_name": "Python 3",
   "language": "python",
   "name": "python3"
  },
  "language_info": {
   "codemirror_mode": {
    "name": "ipython",
    "version": 3
   },
   "file_extension": ".py",
   "mimetype": "text/x-python",
   "name": "python",
   "nbconvert_exporter": "python",
   "pygments_lexer": "ipython3",
   "version": "3.7.4"
  }
 },
 "nbformat": 4,
 "nbformat_minor": 4
}
